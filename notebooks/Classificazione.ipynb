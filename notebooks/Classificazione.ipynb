{
 "cells": [
  {
   "cell_type": "code",
   "execution_count": 7,
   "id": "de103899",
   "metadata": {},
   "outputs": [],
   "source": [
    "import pandas as pd\n",
    "import geopandas as gpd\n",
    "import numpy as np\n",
    "from dateutil import parser\n",
    "import matplotlib.pyplot as plt\n",
    "\n",
    "import statistics\n",
    "\n",
    "import json\n",
    "from shapely.geometry import Point\n",
    "\n",
    "import pickle\n",
    "\n",
    "import time\n",
    "import datetime\n",
    "\n",
    "from mpl_toolkits.axes_grid1 import make_axes_locatable"
   ]
  },
  {
   "cell_type": "code",
   "execution_count": 3,
   "id": "1ef1d717",
   "metadata": {},
   "outputs": [],
   "source": [
    "from sklearn.linear_model import LogisticRegressionCV, LogisticRegression\n",
    "from sklearn.model_selection import train_test_split, GridSearchCV\n",
    "from sklearn.preprocessing import StandardScaler\n",
    "from sklearn.pipeline import Pipeline\n",
    "from sklearn.metrics import roc_curve, roc_auc_score, precision_recall_curve\n",
    "from sklearn.metrics import confusion_matrix, plot_confusion_matrix\n",
    "from sklearn.metrics import f1_score\n"
   ]
  },
  {
   "cell_type": "code",
   "execution_count": 8,
   "id": "3fdc2de9",
   "metadata": {},
   "outputs": [],
   "source": [
    "BIGMERGED_day_tn4 = pd.read_pickle('../data/processed/BIGMERGED_day_tn4.pkl')\n",
    "BIGMERGED_night_tn4 = pd.read_pickle('../data/processed/BIGMERGED_night_tn4.pkl')"
   ]
  },
  {
   "cell_type": "markdown",
   "id": "07b1470b",
   "metadata": {},
   "source": [
    "# CLASSIFICAZIONE"
   ]
  },
  {
   "cell_type": "code",
   "execution_count": 9,
   "id": "856aabd2",
   "metadata": {},
   "outputs": [
    {
     "data": {
      "text/plain": [
       "Index(['precipitation_x', 'minTemperature_x', 'maxTemperature_x', 'cellId',\n",
       "       'timestamp_x', 'weekday_x', 'precipitation_y', 'minTemperature_y',\n",
       "       'maxTemperature_y', 'index_cons_y', 'precipitation', 'minTemperature',\n",
       "       'maxTemperature', 'index_cons'],\n",
       "      dtype='object')"
      ]
     },
     "execution_count": 9,
     "metadata": {},
     "output_type": "execute_result"
    }
   ],
   "source": [
    "features = BIGMERGED_day_tn4.columns\n",
    "features = features[features != 'index_cons_x'] #tolgo 'index_cons_x' che è il mio targhet\n",
    "features"
   ]
  },
  {
   "cell_type": "code",
   "execution_count": 10,
   "id": "2e50ae41",
   "metadata": {},
   "outputs": [],
   "source": [
    "train, test = train_test_split(BIGMERGED_day_tn4, test_size = 0.25)"
   ]
  },
  {
   "cell_type": "code",
   "execution_count": 11,
   "id": "75c000b0",
   "metadata": {},
   "outputs": [],
   "source": [
    "log_reg = LogisticRegression(solver='saga', max_iter=1000, tol=0.001)\n",
    "\n",
    "#penalty default=’l2’\n",
    "#solver is the algorithm to use in the optimization problem. 'saga' is good for large datasets\n",
    "#max_iter= Maximum number of iterations taken for the solvers to converge.\n",
    "#tol=Tolerance for stopping criteria.\n",
    "\n",
    "scaler = StandardScaler()\n",
    "#Standardize features by removing the mean and scaling to unit variance.\n",
    "#Standardization of a dataset is a common requirement for many machine learning estimators: \n",
    "#they might behave badly if the individual features do not more or less look like standard normally distributed data\n",
    "\n",
    "pipe_lr = Pipeline([('scaler',scaler), ('logreg',log_reg)])"
   ]
  },
  {
   "cell_type": "markdown",
   "id": "514192f4",
   "metadata": {},
   "source": [
    "Let’s create the parameter grid, which is a dictionary containing all the various hyperparameters that you want to try when fitting your model:"
   ]
  },
  {
   "cell_type": "code",
   "execution_count": 12,
   "id": "3e2053c3",
   "metadata": {},
   "outputs": [],
   "source": [
    "param_grid = {\n",
    "    'logreg__penalty': ['l2','l1'],\n",
    "    'logreg__C': np.logspace(-4, 4, 4),\n",
    "}\n",
    "\n",
    "#C = Inverse of regularization strength; smaller values specify stronger regularization."
   ]
  },
  {
   "cell_type": "code",
   "execution_count": 13,
   "id": "9dd36c7a",
   "metadata": {},
   "outputs": [
    {
     "data": {
      "text/plain": [
       "LogisticRegression(penalty='l1', solver='saga')"
      ]
     },
     "execution_count": 13,
     "metadata": {},
     "output_type": "execute_result"
    }
   ],
   "source": [
    "param = {'penalty':'l1', 'solver':'saga','C':1.0}\n",
    "LogisticRegression(**param)"
   ]
  },
  {
   "cell_type": "markdown",
   "id": "677e2d9f",
   "metadata": {},
   "source": [
    "GridSearchCV\n",
    "\n",
    "It allows you to specify the different values for each hyperparameter and try out all the possible combinations when fitting your model. It does the training and testing using cross validation of your dataset — hence the acronym “CV” in GridSearchCV. The end result of GridSearchCV is a set of hyperparameters that best fit your data according to the scoring metric that you want your model to optimize on."
   ]
  },
  {
   "cell_type": "code",
   "execution_count": 14,
   "id": "df9ac074",
   "metadata": {},
   "outputs": [],
   "source": [
    "gridsearch = GridSearchCV(pipe_lr, param_grid=param_grid, cv=10)"
   ]
  },
  {
   "cell_type": "markdown",
   "id": "365a90c7",
   "metadata": {},
   "source": [
    "The GridSearchCV() function returns a LogisticRegression instance, which you can then train using your training set:"
   ]
  },
  {
   "cell_type": "code",
   "execution_count": 15,
   "id": "79e5e445",
   "metadata": {},
   "outputs": [
    {
     "data": {
      "text/plain": [
       "GridSearchCV(cv=10,\n",
       "             estimator=Pipeline(steps=[('scaler', StandardScaler()),\n",
       "                                       ('logreg',\n",
       "                                        LogisticRegression(max_iter=1000,\n",
       "                                                           solver='saga',\n",
       "                                                           tol=0.001))]),\n",
       "             param_grid={'logreg__C': array([1.00000000e-04, 4.64158883e-02, 2.15443469e+01, 1.00000000e+04]),\n",
       "                         'logreg__penalty': ['l2', 'l1']})"
      ]
     },
     "execution_count": 15,
     "metadata": {},
     "output_type": "execute_result"
    }
   ],
   "source": [
    "gridsearch.fit(train[features], train['index_cons_x'])"
   ]
  },
  {
   "cell_type": "code",
   "execution_count": 16,
   "id": "3d39fdcd",
   "metadata": {},
   "outputs": [
    {
     "name": "stdout",
     "output_type": "stream",
     "text": [
      "Tuned Hyperparameters : {'logreg__C': 0.046415888336127774, 'logreg__penalty': 'l1'}\n"
     ]
    }
   ],
   "source": [
    "print(\"Tuned Hyperparameters :\", gridsearch.best_params_)\n",
    "\n",
    "#'l2' me lo aspettavo --> in teoria funziona meglio quando tutte le features hanno importanza "
   ]
  },
  {
   "cell_type": "code",
   "execution_count": 17,
   "id": "6bf141ea",
   "metadata": {},
   "outputs": [
    {
     "data": {
      "text/plain": [
       "0.9732394366197183"
      ]
     },
     "execution_count": 17,
     "metadata": {},
     "output_type": "execute_result"
    }
   ],
   "source": [
    "gridsearch.score(test[features], test['index_cons_x'])"
   ]
  },
  {
   "cell_type": "code",
   "execution_count": 18,
   "id": "5a1706b1",
   "metadata": {},
   "outputs": [
    {
     "name": "stderr",
     "output_type": "stream",
     "text": [
      "/home/irene/anaconda3/envs/DS/lib/python3.10/site-packages/sklearn/utils/deprecation.py:87: FutureWarning: Function plot_confusion_matrix is deprecated; Function `plot_confusion_matrix` is deprecated in 1.0 and will be removed in 1.2. Use one of the class methods: ConfusionMatrixDisplay.from_predictions or ConfusionMatrixDisplay.from_estimator.\n",
      "  warnings.warn(msg, category=FutureWarning)\n"
     ]
    },
    {
     "data": {
      "text/plain": [
       "<sklearn.metrics._plot.confusion_matrix.ConfusionMatrixDisplay at 0x7f905f6cbc10>"
      ]
     },
     "execution_count": 18,
     "metadata": {},
     "output_type": "execute_result"
    },
    {
     "data": {
      "image/png": "[encoded data removed]",
      "text/plain": [
       "<Figure size 432x288 with 2 Axes>"
      ]
     },
     "metadata": {
      "needs_background": "light"
     },
     "output_type": "display_data"
    }
   ],
   "source": [
    "plot_confusion_matrix(gridsearch, test[features], test.index_cons_x)"
   ]
  },
  {
   "cell_type": "markdown",
   "id": "2b39155f",
   "metadata": {},
   "source": [
    "PER LA SERA INVECE"
   ]
  },
  {
   "cell_type": "code",
   "execution_count": 19,
   "id": "4244d2fb",
   "metadata": {},
   "outputs": [
    {
     "data": {
      "text/plain": [
       "Index(['precipitation_x', 'minTemperature_x', 'maxTemperature_x', 'cellId',\n",
       "       'timestamp_x', 'weekday_x', 'precipitation_y', 'minTemperature_y',\n",
       "       'maxTemperature_y', 'index_cons_y', 'precipitation', 'minTemperature',\n",
       "       'maxTemperature', 'index_cons'],\n",
       "      dtype='object')"
      ]
     },
     "execution_count": 19,
     "metadata": {},
     "output_type": "execute_result"
    }
   ],
   "source": [
    "features_night = BIGMERGED_night_tn4.columns\n",
    "features_night = features_night[features_night != 'index_cons_x'] #tolgo 'index_cons_x' che è il mio targhet\n",
    "features_night"
   ]
  },
  {
   "cell_type": "code",
   "execution_count": 20,
   "id": "d03003a2",
   "metadata": {},
   "outputs": [],
   "source": [
    "train_n, test_n = train_test_split(BIGMERGED_night_tn4, test_size = 0.25)"
   ]
  },
  {
   "cell_type": "code",
   "execution_count": 21,
   "id": "13893234",
   "metadata": {},
   "outputs": [
    {
     "data": {
      "text/plain": [
       "GridSearchCV(cv=10,\n",
       "             estimator=Pipeline(steps=[('scaler', StandardScaler()),\n",
       "                                       ('logreg',\n",
       "                                        LogisticRegression(max_iter=1000,\n",
       "                                                           solver='saga',\n",
       "                                                           tol=0.001))]),\n",
       "             param_grid={'logreg__C': array([1.00000000e-04, 4.64158883e-02, 2.15443469e+01, 1.00000000e+04]),\n",
       "                         'logreg__penalty': ['l2', 'l1']})"
      ]
     },
     "execution_count": 21,
     "metadata": {},
     "output_type": "execute_result"
    }
   ],
   "source": [
    "gridsearch.fit(train_n[features], train_n['index_cons_x'])"
   ]
  },
  {
   "cell_type": "code",
   "execution_count": 22,
   "id": "02751f24",
   "metadata": {},
   "outputs": [
    {
     "data": {
      "text/plain": [
       "0.9929577464788732"
      ]
     },
     "execution_count": 22,
     "metadata": {},
     "output_type": "execute_result"
    }
   ],
   "source": [
    "gridsearch.score(test_n[features], test_n['index_cons_x'])"
   ]
  },
  {
   "cell_type": "code",
   "execution_count": 23,
   "id": "71d9095d",
   "metadata": {},
   "outputs": [
    {
     "name": "stderr",
     "output_type": "stream",
     "text": [
      "/home/irene/anaconda3/envs/DS/lib/python3.10/site-packages/sklearn/utils/deprecation.py:87: FutureWarning: Function plot_confusion_matrix is deprecated; Function `plot_confusion_matrix` is deprecated in 1.0 and will be removed in 1.2. Use one of the class methods: ConfusionMatrixDisplay.from_predictions or ConfusionMatrixDisplay.from_estimator.\n",
      "  warnings.warn(msg, category=FutureWarning)\n"
     ]
    },
    {
     "data": {
      "text/plain": [
       "<sklearn.metrics._plot.confusion_matrix.ConfusionMatrixDisplay at 0x7f9057282620>"
      ]
     },
     "execution_count": 23,
     "metadata": {},
     "output_type": "execute_result"
    },
    {
     "data": {
      "image/png": "[encoded data removed]",
      "text/plain": [
       "<Figure size 432x288 with 2 Axes>"
      ]
     },
     "metadata": {
      "needs_background": "light"
     },
     "output_type": "display_data"
    }
   ],
   "source": [
    "plot_confusion_matrix(gridsearch, test_n[features], test_n.index_cons_x)"
   ]
  },
  {
   "cell_type": "markdown",
   "id": "fe04e13d",
   "metadata": {},
   "source": [
    "# PROVO ANCHE CON LA RANDOM FOREST!!!"
   ]
  },
  {
   "cell_type": "code",
   "execution_count": 24,
   "id": "ad820eb2",
   "metadata": {},
   "outputs": [],
   "source": [
    "from sklearn.ensemble import RandomForestRegressor"
   ]
  },
  {
   "cell_type": "code",
   "execution_count": 25,
   "id": "858f6e1e",
   "metadata": {},
   "outputs": [],
   "source": [
    "#PROVO ANCHE CON LA RANDOM FOREST!!!\n",
    "\n",
    "from sklearn.ensemble import RandomForestRegressor\n",
    "\n",
    "# Instantiate model with 1000 decision trees\n",
    "rf = RandomForestRegressor(n_estimators = 1000, random_state = 42)"
   ]
  },
  {
   "cell_type": "code",
   "execution_count": 26,
   "id": "88e0e5e9",
   "metadata": {},
   "outputs": [],
   "source": [
    " pipe = Pipeline([\n",
    "        ('scaler', StandardScaler()),\n",
    "        ('regressor', RandomForestRegressor())    \n",
    "    ])"
   ]
  },
  {
   "cell_type": "code",
   "execution_count": 27,
   "id": "b52019e4",
   "metadata": {},
   "outputs": [],
   "source": [
    "param_grid = {\n",
    "        'regressor__n_estimators': [10, 100, 500],\n",
    "        'regressor__max_depth': [10,100,None],\n",
    "        'regressor__min_samples_split': [10, 50, 100],\n",
    "        'regressor__max_features': [4,6,8]\n",
    "    }"
   ]
  },
  {
   "cell_type": "code",
   "execution_count": 28,
   "id": "7bdc5696",
   "metadata": {},
   "outputs": [],
   "source": [
    "gridsearch = GridSearchCV(pipe, param_grid=param_grid)"
   ]
  },
  {
   "cell_type": "code",
   "execution_count": 29,
   "id": "fa4c12e2",
   "metadata": {},
   "outputs": [
    {
     "data": {
      "text/plain": [
       "GridSearchCV(estimator=Pipeline(steps=[('scaler', StandardScaler()),\n",
       "                                       ('regressor', RandomForestRegressor())]),\n",
       "             param_grid={'regressor__max_depth': [10, 100, None],\n",
       "                         'regressor__max_features': [4, 6, 8],\n",
       "                         'regressor__min_samples_split': [10, 50, 100],\n",
       "                         'regressor__n_estimators': [10, 100, 500]})"
      ]
     },
     "execution_count": 29,
     "metadata": {},
     "output_type": "execute_result"
    }
   ],
   "source": [
    "gridsearch.fit(train[features], train['index_cons_x'])"
   ]
  },
  {
   "cell_type": "code",
   "execution_count": 30,
   "id": "6f766f54",
   "metadata": {},
   "outputs": [
    {
     "data": {
      "text/plain": [
       "{'regressor__max_depth': None,\n",
       " 'regressor__max_features': 8,\n",
       " 'regressor__min_samples_split': 100,\n",
       " 'regressor__n_estimators': 10}"
      ]
     },
     "execution_count": 30,
     "metadata": {},
     "output_type": "execute_result"
    }
   ],
   "source": [
    "gridsearch.best_params_"
   ]
  },
  {
   "cell_type": "code",
   "execution_count": 31,
   "id": "5e1d6d2f",
   "metadata": {},
   "outputs": [
    {
     "data": {
      "text/plain": [
       "0.930699301607236"
      ]
     },
     "execution_count": 31,
     "metadata": {},
     "output_type": "execute_result"
    }
   ],
   "source": [
    "gridsearch.score(test[features], test['index_cons_x'])"
   ]
  }
 ],
 "metadata": {
  "kernelspec": {
   "display_name": "Python 3 (ipykernel)",
   "language": "python",
   "name": "python3"
  },
  "language_info": {
   "codemirror_mode": {
    "name": "ipython",
    "version": 3
   },
   "file_extension": ".py",
   "mimetype": "text/x-python",
   "name": "python",
   "nbconvert_exporter": "python",
   "pygments_lexer": "ipython3",
   "version": "3.10.4"
  }
 },
 "nbformat": 4,
 "nbformat_minor": 5
}
